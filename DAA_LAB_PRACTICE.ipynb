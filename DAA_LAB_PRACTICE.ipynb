{
  "nbformat": 4,
  "nbformat_minor": 0,
  "metadata": {
    "colab": {
      "provenance": [],
      "authorship_tag": "ABX9TyPTNGCtXslk5PZEN74JAVGd",
      "include_colab_link": true
    },
    "kernelspec": {
      "name": "python3",
      "display_name": "Python 3"
    },
    "language_info": {
      "name": "python"
    }
  },
  "cells": [
    {
      "cell_type": "markdown",
      "metadata": {
        "id": "view-in-github",
        "colab_type": "text"
      },
      "source": [
        "<a href=\"https://colab.research.google.com/github/SAIKIRANPATNANA/ATS_IIITH_DSA_1/blob/main/DAA_LAB_PRACTICE.ipynb\" target=\"_parent\"><img src=\"https://colab.research.google.com/assets/colab-badge.svg\" alt=\"Open In Colab\"/></a>"
      ]
    },
    {
      "cell_type": "markdown",
      "source": [
        "# QUICK SORT\n",
        "\n",
        "\n"
      ],
      "metadata": {
        "id": "a4rHlTW1uf_L"
      }
    },
    {
      "cell_type": "code",
      "source": [
        "numbers = [5,4,3,2,1]\n",
        "def getPivot(i , j, numbers):\n",
        "  l = i\n",
        "  p = i\n",
        "  h = j\n",
        "  while(i<j):\n",
        "      while(i<len(numbers) and numbers[i]<=numbers[p]):\n",
        "        i += 1\n",
        "      while(j>=0 and numbers[j]>numbers[p]):\n",
        "        j -= 1\n",
        "      if(i<j):\n",
        "        numbers[i],numbers[j] = numbers[j],numbers[i]\n",
        "  numbers[p],numbers[j] = numbers[j],numbers[p]\n",
        "  return j\n",
        "def quickSort(i, j, numbers):\n",
        "  if(i<j):\n",
        "    p = getPivot(i,j,numbers)\n",
        "    quickSort(i,p-1,numbers)\n",
        "    quickSort(p+1,j,numbers)\n",
        "print(numbers)"
      ],
      "metadata": {
        "colab": {
          "base_uri": "https://localhost:8080/"
        },
        "id": "aDCkiXwmpKrO",
        "outputId": "527e26e3-7b4d-4aff-d36b-44eb3d7978d3"
      },
      "execution_count": null,
      "outputs": [
        {
          "output_type": "stream",
          "name": "stdout",
          "text": [
            "[5, 4, 3, 2, 1]\n"
          ]
        }
      ]
    },
    {
      "cell_type": "markdown",
      "source": [
        "# MERGE SORT"
      ],
      "metadata": {
        "id": "3IRFPswSubxR"
      }
    },
    {
      "cell_type": "code",
      "source": [
        "numbers = [5,4,3,2,1]\n",
        "def merge(l,m,h,numbers):\n",
        "  a = m-l+1\n",
        "  b = h-m\n",
        "  left = []\n",
        "  right = []\n",
        "  for i in range(l,m+1):\n",
        "    left.append(numbers[i])\n",
        "  for j in range(m+1,h+1):\n",
        "    right.append(numbers[j])\n",
        "  i = 0\n",
        "  j = 0\n",
        "  k = l\n",
        "  while(i<a and j<b):\n",
        "     if(left[i]<=right[j]):\n",
        "      numbers[k] = left[i]\n",
        "      i += 1\n",
        "      k += 1\n",
        "     else:\n",
        "      numbers[k] = right[j]\n",
        "      j += 1\n",
        "      k += 1\n",
        "  while(i<a):\n",
        "    numbers[k] = left[i]\n",
        "    i += 1\n",
        "    k += 1\n",
        "  while(j<b):\n",
        "    numbers[k] = right[j]\n",
        "    j += 1\n",
        "    k += 1\n",
        "def mergeSort(l,h,numbers):\n",
        "  if(l<h):\n",
        "    m = (l+h)/2\n",
        "    mergeSort(l,m,numbers)\n",
        "    mergeSort(m+1,h,numbers)\n",
        "mergeSort(0,len(numbers)-1,numbers)\n",
        "print(numbers)"
      ],
      "metadata": {
        "colab": {
          "base_uri": "https://localhost:8080/"
        },
        "id": "uZpbn-GpsVEP",
        "outputId": "2499df37-e938-4655-e03d-4df91f7723bc"
      },
      "execution_count": null,
      "outputs": [
        {
          "output_type": "stream",
          "name": "stdout",
          "text": [
            "[5, 4, 3, 2, 1]\n"
          ]
        }
      ]
    },
    {
      "cell_type": "markdown",
      "source": [
        "#FRACTIONAL KNAPSACK"
      ],
      "metadata": {
        "id": "oB5qFQW3yANB"
      }
    },
    {
      "cell_type": "code",
      "source": [
        "profits = [10,5,15,7,6,18,3]\n",
        "weights = [2,3,5,7,1,4,1]\n",
        "capacity = 15\n",
        "ratios = sorted([(profits[i]/weights[i],i) for i in range(len(profits))],key = lambda x:x[0], reverse = True)\n",
        "net_profit = 0\n",
        "for i in range(len(profits)):\n",
        "  if(capacity>=weights[ratios[i][1]]):\n",
        "    net_profit += profits[ratios[i][1]]\n",
        "    capacity -= weights[ratios[i][1]]\n",
        "  else:\n",
        "    net_profit += ratios[i][0]*capacity"
      ],
      "metadata": {
        "colab": {
          "base_uri": "https://localhost:8080/"
        },
        "id": "qOb9bjPuv2J2",
        "outputId": "7f017027-ac0b-4be1-85ee-0193d318bdc3"
      },
      "execution_count": null,
      "outputs": [
        {
          "output_type": "stream",
          "name": "stdout",
          "text": [
            "55.33\n"
          ]
        }
      ]
    },
    {
      "cell_type": "markdown",
      "source": [
        "#JOB SEQUENCING WITH DEADLINES"
      ],
      "metadata": {
        "id": "mABte5tv139I"
      }
    },
    {
      "cell_type": "code",
      "source": [
        "deadlines = [2,1,5,1,2,3]\n",
        "profits = [28,12,5,18,30,20]\n",
        "jobs = [i+1 for i in range(len(profits))]\n",
        "sorted_profits = sorted([(profits[i], i) for i in range(len(profits))], key = lambda x: x[0], reverse = True)\n",
        "net_profit = 0\n",
        "job_sequence = [-1 for i in range(max(deadlines))]\n",
        "for i in range(len(profits)):\n",
        "  j = deadlines[sorted_profits[i][1]]-1\n",
        "  while(j>=0):\n",
        "    if(job_sequence[j] == -1):\n",
        "      job_sequence[j] = jobs[sorted_profits[i][1]]\n",
        "      net_profit += sorted_profits[i][0]\n",
        "      break\n",
        "    else:\n",
        "      j -= 1\n",
        "print(job_sequence)\n",
        "print(net_profit)"
      ],
      "metadata": {
        "colab": {
          "base_uri": "https://localhost:8080/"
        },
        "id": "k8d8ruXG0EEf",
        "outputId": "99867184-39b0-48a7-9e38-ffaca751d88d"
      },
      "execution_count": null,
      "outputs": [
        {
          "output_type": "stream",
          "name": "stdout",
          "text": [
            "[1, 5, 6, -1, 3]\n",
            "83\n"
          ]
        }
      ]
    },
    {
      "cell_type": "markdown",
      "source": [
        "# KRUSHKALS ALGORITHM"
      ],
      "metadata": {
        "id": "657D2dh58Zep"
      }
    },
    {
      "cell_type": "code",
      "source": [
        "n = 7\n",
        "graph = [(0,1,2),(0,6,4),(1,2,3),(0,3,3),(1,4,2),(3,4,5),(6,4,6),(4,5,7)]\n",
        "sorted_graph = sorted(graph, key = lambda x: x[2])\n",
        "parent = [i for i in range(n)]\n",
        "rank = [1 for i in range(n)]\n",
        "def find(x):\n",
        "  if(x == parent[x]):\n",
        "    return x\n",
        "  else:\n",
        "   parent[x] = find(parent[x])\n",
        "  return parent[x]\n",
        "def union(a, b):\n",
        "  a = find(a)\n",
        "  b = find(b)\n",
        "  if(a!=b):\n",
        "    if(rank[a]>=rank[b]):\n",
        "      rank[a] += 1\n",
        "      parent[b] = a\n",
        "    else:\n",
        "      rank[b] += 1\n",
        "      parent[a] = b\n",
        "    return 1\n",
        "  else:\n",
        "    return 0\n",
        "def krushkalsAlgo(sorted_graph):\n",
        "  mst = []\n",
        "  mst_cost = 0\n",
        "  e = 0\n",
        "  i = 0\n",
        "  while(e<n-1 and i<len(sorted_graph)):\n",
        "    if(union(sorted_graph[i][0], sorted_graph[i][1])):\n",
        "      mst_cost += sorted_graph[i][2]\n",
        "      mst.append(sorted_graph[i])\n",
        "      e += 1\n",
        "    i += 1\n",
        "  return mst_cost,mst\n",
        "mst_cost , mst = krushkalsAlgo(sorted_graph)\n",
        "print(mst_cost)\n",
        "print(mst)"
      ],
      "metadata": {
        "colab": {
          "base_uri": "https://localhost:8080/"
        },
        "id": "u6KVOgwv-i1Q",
        "outputId": "2e494a7b-836d-4e68-d95d-7e46422a5545"
      },
      "execution_count": 5,
      "outputs": [
        {
          "output_type": "stream",
          "name": "stdout",
          "text": [
            "21\n",
            "[(0, 1, 2), (1, 4, 2), (1, 2, 3), (0, 3, 3), (0, 6, 4), (4, 5, 7)]\n"
          ]
        }
      ]
    },
    {
      "cell_type": "markdown",
      "source": [
        "#BINARY KNAPSACK"
      ],
      "metadata": {
        "id": "Hf20s1HZJ-XI"
      }
    },
    {
      "cell_type": "code",
      "source": [
        "profits = [1,2,5,6]\n",
        "weights = [2,3,4,5]\n",
        "capacity = 8\n",
        "result = [[-1 for j in range(capacity+1)] for i in range(len(profits)+1)]\n",
        "for i in range(len(profits)+1):\n",
        "  for j in range(capacity+1):\n",
        "    if(i == 0 or j == 0):\n",
        "      result[i][j] = 0\n",
        "    elif(weights[i-1]<=j): # i-1 is meant for i here in retrieving weights & profits\n",
        "      result[i][j] = max(result[i-1][j],result[i-1][j-weights[i-1]]+profits[i-1])\n",
        "    else:\n",
        "      result[i][j] = result[i-1][j]\n",
        "print(result[len(profits)][capacity])"
      ],
      "metadata": {
        "colab": {
          "base_uri": "https://localhost:8080/"
        },
        "id": "YvTrk3PZF-L6",
        "outputId": "f50d40f5-53c2-44d0-afff-d1a2969bf0c2"
      },
      "execution_count": null,
      "outputs": [
        {
          "output_type": "stream",
          "name": "stdout",
          "text": [
            "8\n"
          ]
        }
      ]
    },
    {
      "cell_type": "markdown",
      "source": [
        "#MATRIX CHAIN PRODUCT"
      ],
      "metadata": {
        "id": "JqpNPz9cXFNC"
      }
    },
    {
      "cell_type": "code",
      "source": [
        "p = [2,3,5,8,4]\n",
        "n = len(p)-1\n",
        "m = [[0 for j in range(n+1)] for i in range(n+1)]\n",
        "s = [[0 for j in range(n+1)] for i in range(n+1)]\n",
        "for l in range(2,n+1):\n",
        "  for i in range(1,n-l+1+1):\n",
        "    j = i+l-1\n",
        "    m[i][j] = float('inf')\n",
        "    for k in range(i, j-1+1):\n",
        "      q = m[i][k]+m[k+1][j]+p[i-1]*p[k]*p[j]\n",
        "    if(q<m[i][j]):\n",
        "      m[i][j] = q\n",
        "      s[i][j] = k\n",
        "print(m)\n",
        "print(s)"
      ],
      "metadata": {
        "colab": {
          "base_uri": "https://localhost:8080/"
        },
        "id": "r9eSl8LVRH_P",
        "outputId": "c2e8f526-0a91-48f9-9010-d2b0c3f76197"
      },
      "execution_count": null,
      "outputs": [
        {
          "output_type": "stream",
          "name": "stdout",
          "text": [
            "[[0, 0, 0, 0, 0], [0, 0, 30, 110, 174], [0, 0, 0, 120, 216], [0, 0, 0, 0, 160], [0, 0, 0, 0, 0]]\n",
            "[[0, 0, 0, 0, 0], [0, 0, 1, 2, 3], [0, 0, 0, 2, 3], [0, 0, 0, 0, 3], [0, 0, 0, 0, 0]]\n"
          ]
        }
      ]
    },
    {
      "cell_type": "markdown",
      "source": [
        "#FLOYD WARHSALLS ALGORITHM"
      ],
      "metadata": {
        "id": "k7SshY-JZlwQ"
      }
    },
    {
      "cell_type": "code",
      "source": [
        "graph = [[0,4,11],[6,0,2],[3,float('inf'),0]]\n",
        "result = graph\n",
        "for k in range(0,len(graph)):\n",
        "  for i in range(0,len(graph)):\n",
        "    for j in range(0,len(graph)):\n",
        "      result[i][j] = min(result[i][j], result[i][k]+result[k][j])\n",
        "print(result)"
      ],
      "metadata": {
        "colab": {
          "base_uri": "https://localhost:8080/"
        },
        "id": "zLVzIL5bZlcq",
        "outputId": "d9bba70f-a249-42d6-d3df-283e558d838c"
      },
      "execution_count": null,
      "outputs": [
        {
          "output_type": "stream",
          "name": "stdout",
          "text": [
            "[[0, 4, 6], [5, 0, 2], [3, 7, 0]]\n"
          ]
        }
      ]
    },
    {
      "cell_type": "markdown",
      "source": [
        "#PRIMS ALGORITHM"
      ],
      "metadata": {
        "id": "hyUOHM8cNLts"
      }
    },
    {
      "cell_type": "code",
      "source": [
        "import heapq\n",
        "n = 7\n",
        "graph = [(0,1,2),(0,6,4),(1,2,3),(0,3,3),(1,4,2),(3,4,5),(6,4,6),(4,5,7)]\n",
        "src = 0\n",
        "neighbors = [[] for i in range(n)]\n",
        "for i in range(len(graph)):\n",
        "  neighbors[graph[i][0]].append((graph[i][1], graph[i][2]))\n",
        "  neighbors[graph[i][1]].append((graph[i][0], graph[i][2]))\n",
        "cost = [float('inf') for i in range(n)]\n",
        "parent = [-1 for i in range(n)]\n",
        "flag = [0 for i in range(n)]\n",
        "pq = []\n",
        "heapq.heappush(pq,(0,src))\n",
        "parent[src] = src\n",
        "cost[src] = 0\n",
        "mst = []\n",
        "i = 0\n",
        "mst_cost = 0\n",
        "while(i<n):\n",
        "  wt,v = heapq.heappop(pq)\n",
        "  if(not flag[v]):\n",
        "    for neighbor,w in neighbors[v]:\n",
        "      if(not flag[neighbor] and cost[neighbor]>w):\n",
        "        heapq.heappush(pq,(w,neighbor))\n",
        "        cost[neighbor] = w\n",
        "        parent[neighbor] = v\n",
        "    mst_cost += wt\n",
        "    flag[v] = 1\n",
        "    i += 1\n",
        "    mst.append((parent[v], v, cost[v]))\n",
        "print(mst_cost)\n",
        "print(mst[1:])"
      ],
      "metadata": {
        "colab": {
          "base_uri": "https://localhost:8080/"
        },
        "id": "QZgI03jQNLgs",
        "outputId": "a8ba3908-fc2e-46fd-b6ee-90207bbcc123"
      },
      "execution_count": 10,
      "outputs": [
        {
          "output_type": "stream",
          "name": "stdout",
          "text": [
            "21\n",
            "[(0, 1, 2), (1, 4, 2), (1, 2, 3), (0, 3, 3), (0, 6, 4), (4, 5, 7)]\n"
          ]
        }
      ]
    },
    {
      "cell_type": "markdown",
      "source": [
        "#DIJKSTRAS ALGORITHM"
      ],
      "metadata": {
        "id": "QFUj55G6VjMa"
      }
    },
    {
      "cell_type": "code",
      "source": [
        "n = 7\n",
        "graph = [(0,1,2),(0,6,4),(1,2,3),(0,3,3),(1,4,2),(3,4,5),(6,4,6),(4,5,7)]\n",
        "src = 0\n",
        "destiny = 5\n",
        "neighbors = [[] for i in range(n)]\n",
        "for i in range(len(graph)):\n",
        "  neighbors[graph[i][0]].append((graph[i][1],graph[i][2]))\n",
        "  neighbors[graph[i][1]].append((graph[i][0],graph[i][2]))\n",
        "parent = [-1 for i in range(n)]\n",
        "flag = [0 for i in range(n)]\n",
        "cost = [float('inf') for i in range(n)]\n",
        "pq = []\n",
        "heapq.heappush(pq,(0,src))\n",
        "cost[src] = 0\n",
        "parent[src] = src\n",
        "i = 0\n",
        "while(i<n):\n",
        "  wt,v = heapq.heappop(pq)\n",
        "  if(not flag[v]):\n",
        "    for neighbor,w in neighbors[v]:\n",
        "      if(not flag[neighbor] and cost[neighbor]>w+cost[v]):\n",
        "        cost[neighbor] = w + cost[v]\n",
        "        parent[neighbor] = v\n",
        "        heapq.heappush(pq,(w,neighbor))\n",
        "    flag[v] = 1\n",
        "    i += 1\n",
        "print(cost[destiny])"
      ],
      "metadata": {
        "colab": {
          "base_uri": "https://localhost:8080/"
        },
        "id": "tVYYmPQYVio2",
        "outputId": "95e8df33-2f1f-4824-d3ea-34ff1404d877"
      },
      "execution_count": 14,
      "outputs": [
        {
          "output_type": "stream",
          "name": "stdout",
          "text": [
            "11\n"
          ]
        }
      ]
    },
    {
      "cell_type": "markdown",
      "source": [
        "#BELLMAN FORD ALGORITHM"
      ],
      "metadata": {
        "id": "uMyKr0twbEc5"
      }
    },
    {
      "cell_type": "code",
      "source": [
        "n = 7\n",
        "graph = [(0,1,2),(0,6,4),(1,2,3),(0,3,3),(1,4,2),(3,4,5),(6,4,6),(4,5,7)]\n",
        "src = 0\n",
        "destiny = 5\n",
        "for i in range(len(graph)):\n",
        "  weights[graph[i][0]][graph[i][1]] = graph[i][2]\n",
        "parent = [-1 for i in range(n)]\n",
        "cost = [float('inf') for i in range(n)]\n",
        "cost[src] = 0\n",
        "for i in range(n-1):\n",
        "  for edge in graph:\n",
        "    if(cost[edge[1]]>cost[edge[0]]+edge[2]):\n",
        "      cost[edge[1]] = cost[edge[0]]+edge[2]\n",
        "      parent[edge[1]] = edge[0]\n",
        "for edge in graph:\n",
        "    if(cost[edge[1]]>cost[edge[0]]+edge[2]):\n",
        "      print('cycle detected')\n",
        "      break\n",
        "print(cost[destiny])"
      ],
      "metadata": {
        "colab": {
          "base_uri": "https://localhost:8080/"
        },
        "id": "cjw1Iof-bCOH",
        "outputId": "339e3f83-0827-40c7-eb6d-e6ad9e7af2d3"
      },
      "execution_count": 20,
      "outputs": [
        {
          "output_type": "stream",
          "name": "stdout",
          "text": [
            "11\n"
          ]
        }
      ]
    },
    {
      "cell_type": "code",
      "source": [],
      "metadata": {
        "id": "BJwBleTWYq_r"
      },
      "execution_count": null,
      "outputs": []
    }
  ]
}